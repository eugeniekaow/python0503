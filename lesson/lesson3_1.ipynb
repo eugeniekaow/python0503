{
  "nbformat": 4,
  "nbformat_minor": 0,
  "metadata": {
    "colab": {
      "provenance": [],
      "authorship_tag": "ABX9TyO0QbotBqnAmlvHv/JFsMu5",
      "include_colab_link": true
    },
    "kernelspec": {
      "name": "python3",
      "display_name": "Python 3"
    },
    "language_info": {
      "name": "python"
    }
  },
  "cells": [
    {
      "cell_type": "markdown",
      "metadata": {
        "id": "view-in-github",
        "colab_type": "text"
      },
      "source": [
        "<a href=\"https://colab.research.google.com/github/eugeniekaow/python0503/blob/main/lesson/lesson3_1.ipynb\" target=\"_parent\"><img src=\"https://colab.research.google.com/assets/colab-badge.svg\" alt=\"Open In Colab\"/></a>"
      ]
    },
    {
      "cell_type": "markdown",
      "source": [
        "# python判斷\n"
      ],
      "metadata": {
        "id": "xRRoqMUA0d51"
      }
    },
    {
      "cell_type": "markdown",
      "source": [
        "# python的條件式\n",
        "## python的比較運算子\n",
        "Python 的比較運算子用來比較兩個值，並回傳布林值（True 或 False）。Python 支援以下主要的比較運算子：\n",
        "\n",
        "- `<` ：小於\n",
        "- `<=` ：小於等於\n",
        "- `>` ：大於\n",
        "- `>=` ：大於等於\n",
        "- `==` ：等於\n",
        "- `!=` ：不等於\n",
        "- `is` ：判斷兩個物件是否為同一個物件（物件識別）\n",
        "- `is not` ：判斷兩個物件是否不是同一個物件"
      ],
      "metadata": {
        "id": "Vlp7O1Mb0ozG"
      }
    },
    {
      "cell_type": "code",
      "source": [
        "5 == 5\n",
        "5 != 5\n",
        "5 is 5.0\n",
        "5 is not 5.0"
      ],
      "metadata": {
        "id": "lgtpYLFk24CI",
        "outputId": "9458526f-f643-44a1-93e2-76239ef950ce",
        "colab": {
          "base_uri": "https://localhost:8080/"
        }
      },
      "execution_count": null,
      "outputs": [
        {
          "output_type": "stream",
          "name": "stderr",
          "text": [
            "<>:3: SyntaxWarning: \"is\" with a literal. Did you mean \"==\"?\n",
            "<>:4: SyntaxWarning: \"is not\" with a literal. Did you mean \"!=\"?\n",
            "<>:3: SyntaxWarning: \"is\" with a literal. Did you mean \"==\"?\n",
            "<>:4: SyntaxWarning: \"is not\" with a literal. Did you mean \"!=\"?\n",
            "<ipython-input-5-4ebd421497a6>:3: SyntaxWarning: \"is\" with a literal. Did you mean \"==\"?\n",
            "  5 is 5.0\n",
            "<ipython-input-5-4ebd421497a6>:4: SyntaxWarning: \"is not\" with a literal. Did you mean \"!=\"?\n",
            "  5 is not 5.0\n"
          ]
        },
        {
          "output_type": "execute_result",
          "data": {
            "text/plain": [
              "True"
            ]
          },
          "metadata": {},
          "execution_count": 5
        }
      ]
    },
    {
      "cell_type": "code",
      "source": [
        "scores = 100\n",
        "if scores > 90:\n",
        "  print(\"及格\")\n",
        "else:\n",
        "  print(\"不及格\")"
      ],
      "metadata": {
        "id": "Nm6GI2Cf7UxE",
        "outputId": "865c5835-c756-45de-a1ec-4e9b9357bf4a",
        "colab": {
          "base_uri": "https://localhost:8080/"
        }
      },
      "execution_count": 2,
      "outputs": [
        {
          "output_type": "stream",
          "name": "stdout",
          "text": [
            "及格\n"
          ]
        }
      ]
    },
    {
      "cell_type": "code",
      "source": [],
      "metadata": {
        "id": "C_dgF1Hb8bUl"
      },
      "execution_count": null,
      "outputs": []
    }
  ]
}