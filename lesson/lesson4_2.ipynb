{
  "nbformat": 4,
  "nbformat_minor": 0,
  "metadata": {
    "colab": {
      "provenance": [],
      "authorship_tag": "ABX9TyOTYT0psl8RwGepjfOr9tPs",
      "include_colab_link": true
    },
    "kernelspec": {
      "name": "python3",
      "display_name": "Python 3"
    },
    "language_info": {
      "name": "python"
    }
  },
  "cells": [
    {
      "cell_type": "markdown",
      "metadata": {
        "id": "view-in-github",
        "colab_type": "text"
      },
      "source": [
        "<a href=\"https://colab.research.google.com/github/eugeniekaow/python0503/blob/main/lesson/lesson4_2.ipynb\" target=\"_parent\"><img src=\"https://colab.research.google.com/assets/colab-badge.svg\" alt=\"Open In Colab\"/></a>"
      ]
    },
    {
      "cell_type": "code",
      "execution_count": 1,
      "metadata": {
        "id": "gEr00X8UB8q6",
        "colab": {
          "base_uri": "https://localhost:8080/"
        },
        "outputId": "a5494dc5-8f91-451b-a3ee-ceec646c7c62"
      },
      "outputs": [
        {
          "output_type": "stream",
          "name": "stdout",
          "text": [
            "1\n",
            "2\n",
            "3\n",
            "4\n",
            "5\n"
          ]
        }
      ],
      "source": [
        "count = 1\n",
        "while count <=5:\n",
        "  print(count)\n",
        "  count += 1"
      ]
    },
    {
      "cell_type": "code",
      "source": [
        "total = 0\n",
        "while True:\n",
        "  num = int(input(\"請輸入一個數字(輸入0結束):\"))\n",
        "  if num == 0:\n",
        "    break\n",
        "  total += num\n",
        "print(\"總和:\",total)"
      ],
      "metadata": {
        "colab": {
          "base_uri": "https://localhost:8080/"
        },
        "id": "xA2DzQdoCZ2p",
        "outputId": "769814b6-bdf9-4122-e151-1d1c379cfeb3"
      },
      "execution_count": 5,
      "outputs": [
        {
          "output_type": "stream",
          "name": "stdout",
          "text": [
            "請輸入一個數字(輸入0結束):25\n",
            "請輸入一個數字(輸入0結束):29\n",
            "請輸入一個數字(輸入0結束):31\n",
            "請輸入一個數字(輸入0結束):46\n",
            "請輸入一個數字(輸入0結束):0\n",
            "總和: 131\n"
          ]
        }
      ]
    },
    {
      "cell_type": "code",
      "source": [
        "count = 55\n",
        "while count <=500:\n",
        "  print(count)\n",
        "  count +=45"
      ],
      "metadata": {
        "id": "d6itLLo8EOY9",
        "outputId": "9e6e8f77-9880-4802-b71e-ae1b33d00498",
        "colab": {
          "base_uri": "https://localhost:8080/"
        }
      },
      "execution_count": 15,
      "outputs": [
        {
          "output_type": "stream",
          "name": "stdout",
          "text": [
            "55\n",
            "100\n",
            "145\n",
            "190\n",
            "235\n",
            "280\n",
            "325\n",
            "370\n",
            "415\n",
            "460\n"
          ]
        }
      ]
    }
  ]
}