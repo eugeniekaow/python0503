{
  "nbformat": 4,
  "nbformat_minor": 0,
  "metadata": {
    "colab": {
      "provenance": [],
      "authorship_tag": "ABX9TyOZwzVfgKXSVMKNsLzxab0/",
      "include_colab_link": true
    },
    "kernelspec": {
      "name": "python3",
      "display_name": "Python 3"
    },
    "language_info": {
      "name": "python"
    }
  },
  "cells": [
    {
      "cell_type": "markdown",
      "metadata": {
        "id": "view-in-github",
        "colab_type": "text"
      },
      "source": [
        "<a href=\"https://colab.research.google.com/github/eugeniekaow/python0503/blob/main/lesson/lesson1.ipynb\" target=\"_parent\"><img src=\"https://colab.research.google.com/assets/colab-badge.svg\" alt=\"Open In Colab\"/></a>"
      ]
    },
    {
      "cell_type": "markdown",
      "source": [
        "# 大標1\n",
        "## 大標2\n",
        "### 大標3\n",
        "#### 大標4\n",
        "##### 大標5\n",
        "###### 大標6\n"
      ],
      "metadata": {
        "id": "g_t-uvJfLR-4"
      }
    },
    {
      "cell_type": "code",
      "execution_count": null,
      "metadata": {
        "colab": {
          "base_uri": "https://localhost:8080/"
        },
        "id": "vb1awgGdEv0b",
        "outputId": "b6c3655d-3f5d-493a-bf76-5146a1f69e60"
      },
      "outputs": [
        {
          "output_type": "stream",
          "name": "stdout",
          "text": [
            "Hello python\n"
          ]
        }
      ],
      "source": [
        "print(\"Hello python\")"
      ]
    },
    {
      "cell_type": "code",
      "source": [
        "99**99"
      ],
      "metadata": {
        "id": "B7TqkyftTu1O",
        "outputId": "4a6b3ba9-c322-4d5e-e603-e0b21135b22e",
        "colab": {
          "base_uri": "https://localhost:8080/"
        }
      },
      "execution_count": 10,
      "outputs": [
        {
          "output_type": "execute_result",
          "data": {
            "text/plain": [
              "369729637649726772657187905628805440595668764281741102430259972423552570455277523421410650010128232727940978889548326540119429996769494359451621570193644014418071060667659301384999779999159200499899"
            ]
          },
          "metadata": {},
          "execution_count": 10
        }
      ]
    },
    {
      "cell_type": "code",
      "source": [
        "print(5 + 2)\n",
        "print(8 - 2)\n",
        "print(8 * 3)\n",
        "print(80 / 20)\n",
        "print(80 // 20)\n",
        "print(8 * 2)"
      ],
      "metadata": {
        "id": "FXw6bE9SSc_Z",
        "outputId": "3c752bac-9240-4fa5-a7c7-f0ef7ae4b6da",
        "colab": {
          "base_uri": "https://localhost:8080/"
        }
      },
      "execution_count": 9,
      "outputs": [
        {
          "output_type": "stream",
          "name": "stdout",
          "text": [
            "7\n",
            "6\n",
            "24\n",
            "4.0\n",
            "4\n",
            "16\n"
          ]
        }
      ]
    }
  ]
}