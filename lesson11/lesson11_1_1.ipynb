{
 "cells": [
  {
   "cell_type": "code",
   "execution_count": 1,
   "id": "84a12910",
   "metadata": {},
   "outputs": [
    {
     "data": {
      "text/plain": [
       "[15, 25, 35, 45, 55]"
      ]
     },
     "execution_count": 1,
     "metadata": {},
     "output_type": "execute_result"
    }
   ],
   "source": [
    "score:list =[10,20,30,40,50,]\n",
    "score:list =list(range(10,60,10))\n",
    "\n",
    "scores1 = [score+5 for score in score]\n",
    "scores1"
   ]
  },
  {
   "cell_type": "code",
   "execution_count": 1,
   "id": "c6fb0d85",
   "metadata": {},
   "outputs": [
    {
     "data": {
      "text/plain": [
       "array([15, 25, 35, 45, 55])"
      ]
     },
     "execution_count": 1,
     "metadata": {},
     "output_type": "execute_result"
    }
   ],
   "source": [
    "#numpy\n",
    "import numpy as np\n",
    "\n",
    "array = np.array([10, 20 , 30, 40, 50])\n",
    "type(array)\n",
    "array1 = array + 5\n",
    "array1"
   ]
  }
 ],
 "metadata": {
  "kernelspec": {
   "display_name": "chihleel",
   "language": "python",
   "name": "python3"
  },
  "language_info": {
   "codemirror_mode": {
    "name": "ipython",
    "version": 3
   },
   "file_extension": ".py",
   "mimetype": "text/x-python",
   "name": "python",
   "nbconvert_exporter": "python",
   "pygments_lexer": "ipython3",
   "version": "3.10.18"
  }
 },
 "nbformat": 4,
 "nbformat_minor": 5
}
