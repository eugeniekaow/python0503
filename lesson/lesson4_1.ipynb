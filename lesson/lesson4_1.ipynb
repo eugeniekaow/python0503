{
  "nbformat": 4,
  "nbformat_minor": 0,
  "metadata": {
    "colab": {
      "provenance": [],
      "authorship_tag": "ABX9TyOa40xiT75CEOHqKg80FjDG",
      "include_colab_link": true
    },
    "kernelspec": {
      "name": "python3",
      "display_name": "Python 3"
    },
    "language_info": {
      "name": "python"
    }
  },
  "cells": [
    {
      "cell_type": "markdown",
      "metadata": {
        "id": "view-in-github",
        "colab_type": "text"
      },
      "source": [
        "<a href=\"https://colab.research.google.com/github/eugeniekaow/python0503/blob/main/lesson/lesson4_1.ipynb\" target=\"_parent\"><img src=\"https://colab.research.google.com/assets/colab-badge.svg\" alt=\"Open In Colab\"/></a>"
      ]
    },
    {
      "cell_type": "code",
      "execution_count": 3,
      "metadata": {
        "id": "THcmeRzDrdPA",
        "outputId": "5940e18d-04a3-4914-d58b-fea9bcf152d8",
        "colab": {
          "base_uri": "https://localhost:8080/"
        }
      },
      "outputs": [
        {
          "output_type": "stream",
          "name": "stdout",
          "text": [
            "82\n",
            "60\n",
            "60\n",
            "85\n",
            "20\n"
          ]
        }
      ],
      "source": [
        "#list\n",
        "for i in [82,60,60,85,20]:\n",
        "  print(i)"
      ]
    },
    {
      "cell_type": "code",
      "source": [
        "#tuple\n",
        "for i in (58,52,56,20,31):\n",
        "  print(i)"
      ],
      "metadata": {
        "id": "jxZSvkMs3knb",
        "outputId": "48e5b88a-e3f0-4782-ce62-659932deb821",
        "colab": {
          "base_uri": "https://localhost:8080/"
        }
      },
      "execution_count": 4,
      "outputs": [
        {
          "output_type": "stream",
          "name": "stdout",
          "text": [
            "58\n",
            "52\n",
            "56\n",
            "20\n",
            "31\n"
          ]
        }
      ]
    },
    {
      "cell_type": "code",
      "source": [
        "desserts ={\"Muffin\":39,\"Scone\":25,\"Biscuit\":20}\n",
        "desserts[\"Muffin\"]\n",
        "desserts[\"Biscuit\"]"
      ],
      "metadata": {
        "id": "q0l0tNyV3waC",
        "outputId": "2a586506-1499-4d37-f103-f9dc898bbbac",
        "colab": {
          "base_uri": "https://localhost:8080/"
        }
      },
      "execution_count": 7,
      "outputs": [
        {
          "output_type": "execute_result",
          "data": {
            "text/plain": [
              "39"
            ]
          },
          "metadata": {},
          "execution_count": 7
        }
      ]
    },
    {
      "cell_type": "code",
      "source": [
        "stu1 ={\"name\":\"robert\",\n",
        "    \"chinese\":78,\n",
        "    \"english\":98,\n",
        "    \"math\":73}\n",
        "stu2 ={\"name\":\"alice\",\n",
        "    \"chinese\":72,\n",
        "    \"english\":88,\n",
        "    \"math\":63}\n",
        "stu3 ={\"name\":\"jenny\",\n",
        "    \"chinese\":72,\n",
        "    \"english\":88,\n",
        "    \"math\":93}\n"
      ],
      "metadata": {
        "id": "1a5pW73e4lGt"
      },
      "execution_count": 9,
      "outputs": []
    },
    {
      "cell_type": "code",
      "source": [
        "students = [stu1,stu2,stu3]\n",
        "students"
      ],
      "metadata": {
        "id": "yPgsWd3K5qhg",
        "outputId": "990c56f4-dbd5-4885-c9fb-7989df3ef707",
        "colab": {
          "base_uri": "https://localhost:8080/"
        }
      },
      "execution_count": 10,
      "outputs": [
        {
          "output_type": "execute_result",
          "data": {
            "text/plain": [
              "[{'name': 'robert', 'chinese': 78, 'english': 98, 'math': 73},\n",
              " {'name': 'alice', 'chinese': 72, 'english': 88, 'math': 63},\n",
              " {'name': 'jenny', 'chinese': 72, 'english': 88, 'math': 93}]"
            ]
          },
          "metadata": {},
          "execution_count": 10
        }
      ]
    },
    {
      "cell_type": "code",
      "source": [
        "for student in students:\n",
        "  print(\"姓名:\",student[\"name\"])\n",
        "  print(\"國文:\",student[\"chinese\"])\n",
        "  print(\"英文:\",student[\"english\"])\n",
        "  print(\"數學:\",student[\"math\"])\n",
        "  print(\"= = = = = = = = =\")"
      ],
      "metadata": {
        "id": "rGyX021F53Ae",
        "outputId": "b024ac19-7b63-4cad-8623-b6d130aeb068",
        "colab": {
          "base_uri": "https://localhost:8080/"
        }
      },
      "execution_count": 12,
      "outputs": [
        {
          "output_type": "stream",
          "name": "stdout",
          "text": [
            "姓名: robert\n",
            "國文: 78\n",
            "英文: 98\n",
            "數學: 73\n",
            "= = = = = = = = =\n",
            "姓名: alice\n",
            "國文: 72\n",
            "英文: 88\n",
            "數學: 63\n",
            "= = = = = = = = =\n",
            "姓名: jenny\n",
            "國文: 72\n",
            "英文: 88\n",
            "數學: 93\n",
            "= = = = = = = = =\n"
          ]
        }
      ]
    }
  ]
}