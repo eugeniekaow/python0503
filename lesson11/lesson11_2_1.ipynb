{
 "cells": [
  {
   "cell_type": "code",
   "execution_count": 4,
   "id": "bb3e4871",
   "metadata": {},
   "outputs": [
    {
     "data": {
      "text/plain": [
       "array([69, 96, 92])"
      ]
     },
     "execution_count": 4,
     "metadata": {},
     "output_type": "execute_result"
    }
   ],
   "source": [
    "import numpy as np\n",
    "from numpy import ndarray\n",
    "\n",
    "students:ndarray = np.array([[79,93,69,96,92],\n",
    "                            [66,76,64,85,87]])\n",
    "\n",
    "students[0]\n",
    "students[1]\n",
    "students[1,:3]\n",
    "students[0,-3:]"
   ]
  }
 ],
 "metadata": {
  "kernelspec": {
   "display_name": "chihleel",
   "language": "python",
   "name": "python3"
  },
  "language_info": {
   "codemirror_mode": {
    "name": "ipython",
    "version": 3
   },
   "file_extension": ".py",
   "mimetype": "text/x-python",
   "name": "python",
   "nbconvert_exporter": "python",
   "pygments_lexer": "ipython3",
   "version": "3.10.18"
  }
 },
 "nbformat": 4,
 "nbformat_minor": 5
}
