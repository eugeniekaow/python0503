{
  "nbformat": 4,
  "nbformat_minor": 0,
  "metadata": {
    "colab": {
      "provenance": [],
      "authorship_tag": "ABX9TyMv7hNKkZJqSUsuz4P/vFZV",
      "include_colab_link": true
    },
    "kernelspec": {
      "name": "python3",
      "display_name": "Python 3"
    },
    "language_info": {
      "name": "python"
    }
  },
  "cells": [
    {
      "cell_type": "markdown",
      "metadata": {
        "id": "view-in-github",
        "colab_type": "text"
      },
      "source": [
        "<a href=\"https://colab.research.google.com/github/eugeniekaow/python0503/blob/main/lesson/lesson2.ipynb\" target=\"_parent\"><img src=\"https://colab.research.google.com/assets/colab-badge.svg\" alt=\"Open In Colab\"/></a>"
      ]
    },
    {
      "cell_type": "code",
      "execution_count": null,
      "metadata": {
        "id": "JaMRXKUspefK",
        "colab": {
          "base_uri": "https://localhost:8080/"
        },
        "outputId": "361c599f-e288-4577-9768-dc0a2251a975"
      },
      "outputs": [
        {
          "output_type": "execute_result",
          "data": {
            "text/plain": [
              "14"
            ]
          },
          "metadata": {},
          "execution_count": 1
        }
      ],
      "source": [
        "2 + 3 * 4"
      ]
    },
    {
      "cell_type": "code",
      "source": [
        "(2 + 3) * 4"
      ],
      "metadata": {
        "colab": {
          "base_uri": "https://localhost:8080/"
        },
        "id": "VLw4DqkBt5aV",
        "outputId": "04cf4bf5-3ccb-4b69-a556-2e07eb066b2b"
      },
      "execution_count": null,
      "outputs": [
        {
          "output_type": "execute_result",
          "data": {
            "text/plain": [
              "20"
            ]
          },
          "metadata": {},
          "execution_count": 2
        }
      ]
    },
    {
      "cell_type": "markdown",
      "source": [
        "- 會做6件事\n",
        "- 運算式->會傳出值\n",
        "\n",
        "運算式的優先順序\n",
        "- ()\n",
        "- **\n",
        "- */ % //\n",
        "- +-\n",
        "- ="
      ],
      "metadata": {
        "id": "MNh2QHp1uILE"
      }
    },
    {
      "cell_type": "code",
      "source": [
        "2 * (1 + 2) ** 2 - 2 ** 2 * 2"
      ],
      "metadata": {
        "colab": {
          "base_uri": "https://localhost:8080/"
        },
        "id": "ec82r_3SuAE8",
        "outputId": "cb74ec28-5f6c-480c-ca28-0dad84ad213c"
      },
      "execution_count": null,
      "outputs": [
        {
          "output_type": "execute_result",
          "data": {
            "text/plain": [
              "10"
            ]
          },
          "metadata": {},
          "execution_count": 3
        }
      ]
    },
    {
      "cell_type": "markdown",
      "source": [
        "敘述式(statement)"
      ],
      "metadata": {
        "id": "kc93GaUA1ca2"
      }
    },
    {
      "cell_type": "code",
      "source": [
        "n = 2 * (1 + 2) ** 2 - 2 ** 2 * 2\n",
        "n = n * 10\n",
        "n"
      ],
      "metadata": {
        "colab": {
          "base_uri": "https://localhost:8080/"
        },
        "id": "HoE1kQ1d0Z_l",
        "outputId": "1472c09d-8dfa-4385-fda6-283101599fcc"
      },
      "execution_count": 4,
      "outputs": [
        {
          "output_type": "execute_result",
          "data": {
            "text/plain": [
              "100"
            ]
          },
          "metadata": {},
          "execution_count": 4
        }
      ]
    },
    {
      "cell_type": "markdown",
      "source": [
        "(*=)複合指定運算子"
      ],
      "metadata": {
        "id": "imHhFAPS3v0j"
      }
    },
    {
      "cell_type": "code",
      "source": [
        "n = 2 * (1 + 2) ** 2 - 2 ** 2 * 2\n",
        "n *= 10\n",
        "n"
      ],
      "metadata": {
        "colab": {
          "base_uri": "https://localhost:8080/"
        },
        "id": "Ct8eRZIR3kMT",
        "outputId": "44488cf9-567c-43dd-e4b8-09a380226b14"
      },
      "execution_count": 7,
      "outputs": [
        {
          "output_type": "execute_result",
          "data": {
            "text/plain": [
              "100"
            ]
          },
          "metadata": {},
          "execution_count": 7
        }
      ]
    },
    {
      "cell_type": "markdown",
      "source": [
        "Input()使用"
      ],
      "metadata": {
        "id": "zw_S0nM59Hnd"
      }
    },
    {
      "cell_type": "code",
      "source": [
        "name = input(\"請輸入您的名子:\")\n",
        "print(\"您的名子:\",name)"
      ],
      "metadata": {
        "colab": {
          "base_uri": "https://localhost:8080/"
        },
        "id": "fBZIa8459Nnt",
        "outputId": "823ffae2-2ffe-4ae1-d6f7-c725ab92614f"
      },
      "execution_count": 9,
      "outputs": [
        {
          "output_type": "stream",
          "name": "stdout",
          "text": [
            "請輸入您的名子:Eugenie\n",
            "您的名子: Eugenie\n"
          ]
        }
      ]
    },
    {
      "cell_type": "markdown",
      "source": [
        "python是動態型別"
      ],
      "metadata": {
        "id": "ODgG1TIyD5dQ"
      }
    },
    {
      "cell_type": "code",
      "source": [
        "name = input(\"請輸入您的名子\")\n",
        "type(name)\n",
        "name = 100\n",
        "type(name)\n",
        "name = 100.0\n",
        "type(name)"
      ],
      "metadata": {
        "id": "a6eZCjD6DRZI",
        "outputId": "1527dcb2-ba95-4421-8fae-172f124c3f51",
        "colab": {
          "base_uri": "https://localhost:8080/"
        }
      },
      "execution_count": 13,
      "outputs": [
        {
          "name": "stdout",
          "output_type": "stream",
          "text": [
            "請輸入您的名子make\n"
          ]
        },
        {
          "output_type": "execute_result",
          "data": {
            "text/plain": [
              "float"
            ]
          },
          "metadata": {},
          "execution_count": 13
        }
      ]
    }
  ]
}