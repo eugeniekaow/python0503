{
  "nbformat": 4,
  "nbformat_minor": 0,
  "metadata": {
    "colab": {
      "provenance": [],
      "authorship_tag": "ABX9TyOpbP2JAMLlYV2aYul+605N",
      "include_colab_link": true
    },
    "kernelspec": {
      "name": "python3",
      "display_name": "Python 3"
    },
    "language_info": {
      "name": "python"
    }
  },
  "cells": [
    {
      "cell_type": "markdown",
      "metadata": {
        "id": "view-in-github",
        "colab_type": "text"
      },
      "source": [
        "<a href=\"https://colab.research.google.com/github/eugeniekaow/python0503/blob/main/lesson/lesson4_2.ipynb\" target=\"_parent\"><img src=\"https://colab.research.google.com/assets/colab-badge.svg\" alt=\"Open In Colab\"/></a>"
      ]
    },
    {
      "cell_type": "code",
      "execution_count": 1,
      "metadata": {
        "id": "gEr00X8UB8q6",
        "colab": {
          "base_uri": "https://localhost:8080/"
        },
        "outputId": "a5494dc5-8f91-451b-a3ee-ceec646c7c62"
      },
      "outputs": [
        {
          "output_type": "stream",
          "name": "stdout",
          "text": [
            "1\n",
            "2\n",
            "3\n",
            "4\n",
            "5\n"
          ]
        }
      ],
      "source": [
        "count = 1\n",
        "while count <=5:\n",
        "  print(count)\n",
        "  count += 1"
      ]
    },
    {
      "cell_type": "code",
      "source": [
        "total = 0\n",
        "while True:\n",
        "  num = int(input(\"請輸入一個數字(輸入0結束):\"))\n",
        "  if num == 0:\n",
        "    break\n",
        "  total += num\n",
        "print(\"總和:\",total)"
      ],
      "metadata": {
        "colab": {
          "base_uri": "https://localhost:8080/"
        },
        "id": "xA2DzQdoCZ2p",
        "outputId": "769814b6-bdf9-4122-e151-1d1c379cfeb3"
      },
      "execution_count": 5,
      "outputs": [
        {
          "output_type": "stream",
          "name": "stdout",
          "text": [
            "請輸入一個數字(輸入0結束):25\n",
            "請輸入一個數字(輸入0結束):29\n",
            "請輸入一個數字(輸入0結束):31\n",
            "請輸入一個數字(輸入0結束):46\n",
            "請輸入一個數字(輸入0結束):0\n",
            "總和: 131\n"
          ]
        }
      ]
    },
    {
      "cell_type": "code",
      "source": [
        "count = 55\n",
        "while count <=500:\n",
        "  print(count)\n",
        "  count +=45"
      ],
      "metadata": {
        "colab": {
          "base_uri": "https://localhost:8080/"
        },
        "id": "d6itLLo8EOY9",
        "outputId": "9e6e8f77-9880-4802-b71e-ae1b33d00498"
      },
      "execution_count": 15,
      "outputs": [
        {
          "output_type": "stream",
          "name": "stdout",
          "text": [
            "55\n",
            "100\n",
            "145\n",
            "190\n",
            "235\n",
            "280\n",
            "325\n",
            "370\n",
            "415\n",
            "460\n"
          ]
        }
      ]
    },
    {
      "cell_type": "code",
      "source": [
        "import random\n",
        "random_number = random.randint(1,99)\n",
        "random_number"
      ],
      "metadata": {
        "colab": {
          "base_uri": "https://localhost:8080/"
        },
        "id": "retm7bvFIYrZ",
        "outputId": "d3659e52-ea57-440f-c339-faa731cc6ed7"
      },
      "execution_count": 17,
      "outputs": [
        {
          "output_type": "execute_result",
          "data": {
            "text/plain": [
              "32"
            ]
          },
          "metadata": {},
          "execution_count": 17
        }
      ]
    },
    {
      "cell_type": "code",
      "source": [
        "import random\n",
        "min = 1\n",
        "max = 99\n",
        "count = 0\n",
        "random_number = random.randint(min,max)\n",
        "#print(random_number)\n",
        "print(\"========猜數字遊戲開始=========\")\n",
        "while True:\n",
        "  input_number = int(input(f\"請輸入{min}~{max}的範圍數字:\"))\n",
        "  count += 1\n",
        "  if (input_number == random_number):\n",
        "    print(f\"賓果!猜對了,答案是:{random_number}\")\n",
        "    print(f\"您猜了:{count}次\")\n",
        "    break\n",
        "  elif(input_number > random_number):\n",
        "    print(f\"再小一點\")\n",
        "    max = input_number - 1\n",
        "  elif(input_number < random_number):\n",
        "    print(f\"再大一點\")\n",
        "    min = input_number + 1\n",
        "\n",
        "    print(f\"您已經猜了:{count}次\\n\")\n",
        "\n",
        "print(\"Game Over\")"
      ],
      "metadata": {
        "colab": {
          "base_uri": "https://localhost:8080/"
        },
        "id": "f1ok5qIoJODu",
        "outputId": "a0001bd2-ce6b-4c06-c0fc-bd5a4d8dd675"
      },
      "execution_count": 19,
      "outputs": [
        {
          "output_type": "stream",
          "name": "stdout",
          "text": [
            "========猜數字遊戲開始=========\n",
            "請輸入1~99的範圍數字:82\n",
            "再小一點\n",
            "請輸入1~81的範圍數字:7\n",
            "再大一點\n",
            "您已經猜了:2次\n",
            "\n",
            "請輸入8~81的範圍數字:50\n",
            "再小一點\n",
            "請輸入8~49的範圍數字:32\n",
            "再大一點\n",
            "您已經猜了:4次\n",
            "\n",
            "請輸入33~49的範圍數字:11\n",
            "再大一點\n",
            "您已經猜了:5次\n",
            "\n",
            "請輸入12~49的範圍數字:17\n",
            "再大一點\n",
            "您已經猜了:6次\n",
            "\n",
            "請輸入18~49的範圍數字:33\n",
            "再大一點\n",
            "您已經猜了:7次\n",
            "\n",
            "請輸入34~49的範圍數字:40\n",
            "再小一點\n",
            "請輸入34~39的範圍數字:38\n",
            "再小一點\n",
            "請輸入34~37的範圍數字:35\n",
            "賓果!猜對了,答案是:35\n",
            "您猜了:10次\n",
            "Game Over\n"
          ]
        }
      ]
    },
    {
      "cell_type": "code",
      "source": [
        "orange = 3\n",
        "apple = 5\n",
        "\"您有orange\" + str(orange) + \"個, apple \" + str(apple) + \"個\""
      ],
      "metadata": {
        "colab": {
          "base_uri": "https://localhost:8080/",
          "height": 35
        },
        "id": "ZdI97ktDSVis",
        "outputId": "fb804f6f-a5e6-4527-d5c3-62f06ec18163"
      },
      "execution_count": 21,
      "outputs": [
        {
          "output_type": "execute_result",
          "data": {
            "text/plain": [
              "'您有orange3個, apple 5個'"
            ],
            "application/vnd.google.colaboratory.intrinsic+json": {
              "type": "string"
            }
          },
          "metadata": {},
          "execution_count": 21
        }
      ]
    },
    {
      "cell_type": "code",
      "source": [
        "orange = 3\n",
        "apple = 5\n",
        "f\"您有orange{orange}個, apple {apple}個\""
      ],
      "metadata": {
        "colab": {
          "base_uri": "https://localhost:8080/",
          "height": 35
        },
        "id": "RDhdyxKISXaU",
        "outputId": "8136fb80-a02a-4fc2-96ab-a8cc3b16d6e3"
      },
      "execution_count": 20,
      "outputs": [
        {
          "output_type": "execute_result",
          "data": {
            "text/plain": [
              "'您有orange3個, apple 5個'"
            ],
            "application/vnd.google.colaboratory.intrinsic+json": {
              "type": "string"
            }
          },
          "metadata": {},
          "execution_count": 20
        }
      ]
    }
  ]
}